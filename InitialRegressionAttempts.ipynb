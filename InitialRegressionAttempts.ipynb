{
 "cells": [
  {
   "cell_type": "markdown",
   "metadata": {},
   "source": [
    "# Document Summary\n",
    "\n",
    "The target data is displayed and the imbalance is acknowledged.\n",
    "\n",
    "Feature Data is pre processed 4 ways to cover all combinations of lemmatization, stemmatization, CountVectorization\n",
    "and RFID Vectorization.\n",
    "\n",
    "An initial LinearRegression model shows correlation between all preprocessed data and the target data, but this correlation\n",
    "is not supported by the RSquared value.\n",
    "\n",
    "All data is resampled using RandomUndersampler and all correlation is lost.\n",
    "\n",
    "Document concludes that further investigation should follow regularization, non linear regression modelling and consider \n",
    "classification"
   ]
  },
  {
   "cell_type": "code",
   "execution_count": null,
   "metadata": {},
   "outputs": [],
   "source": [
    "from TextMiningProcesses import column_lemmatizer, column_stemmatizer, count_vectorize_data, tfidf_vectorize_data\n",
    "\n",
    "import pandas as pd\n",
    "import numpy as np\n",
    "\n",
    "from sklearn.linear_model import LinearRegression\n",
    "from sklearn.model_selection import cross_val_predict, cross_val_score, cross_validate\n",
    "from imblearn.under_sampling import RandomUnderSampler\n",
    "from matplotlib import pyplot as pyplot\n",
    "import seaborn as sns"
   ]
  },
  {
   "cell_type": "code",
   "execution_count": 3,
   "metadata": {},
   "outputs": [],
   "source": [
    "train = pd.read_csv('train.csv')\n",
    "test = pd.read_csv('test.csv')\n",
    "\n",
    "X_train = train.drop(columns='overall')\n",
    "y_train = train['overall']\n",
    "X_test = test.drop(columns='overall')\n",
    "y_test = test['overall']"
   ]
  },
  {
   "cell_type": "code",
   "execution_count": 4,
   "metadata": {},
   "outputs": [
    {
     "name": "stdout",
     "output_type": "stream",
     "text": [
      "<class 'pandas.core.series.Series'>\n",
      "RangeIndex: 43043 entries, 0 to 43042\n",
      "Series name: overall\n",
      "Non-Null Count  Dtype\n",
      "--------------  -----\n",
      "43043 non-null  int64\n",
      "dtypes: int64(1)\n",
      "memory usage: 336.4 KB\n"
     ]
    },
    {
     "data": {
      "text/plain": [
       "overall\n",
       "5    0.452013\n",
       "1    0.267035\n",
       "4    0.134377\n",
       "3    0.077411\n",
       "2    0.069163\n",
       "Name: proportion, dtype: float64"
      ]
     },
     "metadata": {},
     "output_type": "display_data"
    },
    {
     "name": "stderr",
     "output_type": "stream",
     "text": [
      "c:\\Users\\Scratticus\\AppData\\Local\\Programs\\Python\\Python311\\Lib\\site-packages\\seaborn\\_oldcore.py:1498: FutureWarning: is_categorical_dtype is deprecated and will be removed in a future version. Use isinstance(dtype, CategoricalDtype) instead\n",
      "  if pd.api.types.is_categorical_dtype(vector):\n",
      "c:\\Users\\Scratticus\\AppData\\Local\\Programs\\Python\\Python311\\Lib\\site-packages\\seaborn\\_oldcore.py:1498: FutureWarning: is_categorical_dtype is deprecated and will be removed in a future version. Use isinstance(dtype, CategoricalDtype) instead\n",
      "  if pd.api.types.is_categorical_dtype(vector):\n",
      "c:\\Users\\Scratticus\\AppData\\Local\\Programs\\Python\\Python311\\Lib\\site-packages\\seaborn\\_oldcore.py:1498: FutureWarning: is_categorical_dtype is deprecated and will be removed in a future version. Use isinstance(dtype, CategoricalDtype) instead\n",
      "  if pd.api.types.is_categorical_dtype(vector):\n"
     ]
    },
    {
     "data": {
      "text/plain": [
       "'\\nWe can see that the data is not very well balanced and may wish to consider over or undersampling the data. from the size of the data it may be best to undersample.\\n'"
      ]
     },
     "execution_count": 4,
     "metadata": {},
     "output_type": "execute_result"
    },
    {
     "data": {
      "image/png": "[encoded data removed]",
      "text/plain": [
       "<Figure size 640x480 with 1 Axes>"
      ]
     },
     "metadata": {},
     "output_type": "display_data"
    }
   ],
   "source": [
    "y_train.info()\n",
    "\n",
    "display(y_train.value_counts(normalize=True))\n",
    "\n",
    "sns.countplot(x=y_train)"
   ]
  },
  {
   "cell_type": "markdown",
   "metadata": {},
   "source": [
    "We can see that the data is not very well balanced and may wish to consider over or undersampling the data. from the size of the data it may be best to undersample."
   ]
  },
  {
   "cell_type": "markdown",
   "metadata": {},
   "source": [
    "With two methods of tokenizing ands 2 methods of vectorizing the text fields, that gives us 4 potential cobinations to test the regression.\n",
    "To test the regression we can use the LinearRegression model to check for a linear regression and we can use the crossvalidation to verify\n",
    "any detected linear relationships.\n",
    "\n",
    "First though we must identify and preprocess our 4 types of data\n",
    "\n",
    "This cell could take a few minutes to run."
   ]
  },
  {
   "cell_type": "code",
   "execution_count": 5,
   "metadata": {},
   "outputs": [
    {
     "name": "stdout",
     "output_type": "stream",
     "text": [
      "<class 'pandas.core.frame.DataFrame'>\n",
      "RangeIndex: 43043 entries, 0 to 43042\n",
      "Data columns (total 20 columns):\n",
      " #   Column          Non-Null Count  Dtype \n",
      "---  ------          --------------  ----- \n",
      " 0   vote            43043 non-null  int64 \n",
      " 1   verified        43043 non-null  bool  \n",
      " 2   reviewTime      43043 non-null  object\n",
      " 3   reviewerID      43043 non-null  object\n",
      " 4   asin            43043 non-null  object\n",
      " 5   reviewerName    43043 non-null  object\n",
      " 6   reviewText      43043 non-null  object\n",
      " 7   summary         43043 non-null  object\n",
      " 8   unixReviewTime  43043 non-null  int64 \n",
      " 9   reviewYear      43043 non-null  int64 \n",
      " 10  reviewMonth     43043 non-null  int64 \n",
      " 11  reviewDay       43043 non-null  int64 \n",
      " 12  category        43043 non-null  object\n",
      " 13  description     43043 non-null  object\n",
      " 14  title           43043 non-null  object\n",
      " 15  brand           42533 non-null  object\n",
      " 16  feature         43043 non-null  object\n",
      " 17  rank            43043 non-null  object\n",
      " 18  main_cat        43034 non-null  object\n",
      " 19  price           24890 non-null  object\n",
      "dtypes: bool(1), int64(5), object(14)\n",
      "memory usage: 6.3+ MB\n"
     ]
    }
   ],
   "source": [
    "# Identify the column to be processed\n",
    "X_train.info() # reviewText is the column name\n",
    "\n",
    "# Lemmatized data\n",
    "X_lem_train = column_lemmatizer(X_train['reviewText'])\n",
    "X_lem_test = column_lemmatizer(X_test['reviewText'])\n",
    "\n",
    "# Stemmatized data\n",
    "X_stem_train = column_stemmatizer(X_train['reviewText'])\n",
    "X_stem_test = column_stemmatizer(X_test['reviewText'])\n",
    "\n",
    "# Lemmatized CountVectorized data\n",
    "X_lem_CV_train, X_lem_CV_test = count_vectorize_data(X_lem_train, X_lem_test)\n",
    "X_lem_CV_tr_dense, X_lem_CV_tst_dense = X_lem_CV_train.toarray(), X_lem_CV_test.toarray()\n",
    "\n",
    "# Lemmatized TFIDVectorized data\n",
    "X_lem_RFID_train, X_lem_RFID_test = tfidf_vectorize_data(X_lem_train, X_lem_test)\n",
    "X_lem_RFID_tr_dense, X_lem_RFID_tst_dense = X_lem_RFID_train.toarray(), X_lem_RFID_test.toarray()\n",
    "\n",
    "# Stemmatized CountVectorized data\n",
    "X_stem_CV_train, X_stem_CV_test = count_vectorize_data(X_stem_train, X_stem_test)\n",
    "X_stem_CV_tr_dense, X_stem_CV_tst_dense = X_stem_CV_train.toarray(), X_stem_CV_test.toarray()\n",
    "\n",
    "# Stemmatized TFIDVectorized data\n",
    "X_stem_RFID_train, X_stem_RFID_test = tfidf_vectorize_data(X_stem_train, X_stem_test)\n",
    "X_stem_RFID_tr_dense, X_stem_RFID_tst_dense = X_stem_RFID_train.toarray(), X_stem_RFID_test.toarray()\n",
    "\n"
   ]
  },
  {
   "cell_type": "code",
   "execution_count": 18,
   "metadata": {},
   "outputs": [
    {
     "name": "stdout",
     "output_type": "stream",
     "text": [
      "Lemmatized, CountVectorized Linear Regression Score = 0.8157758272439622\n",
      "Lemmatized, CountVectorized RSquared = -6.489040137724392\n"
     ]
    }
   ],
   "source": [
    "# Lemmatized, CountVectorized LinearRegression results\n",
    "lr_l_cv = LinearRegression()\n",
    "lr_l_cv.fit(X_lem_CV_train, y_train)\n",
    "print(f'Lemmatized, CountVectorized Linear Regression Score = {lr_l_cv.score(X_lem_CV_train, y_train)}')\n",
    "\n",
    "lem_CV_R2 = cross_validate(lr_l_cv, X_lem_CV_train, y_train, return_train_score=True, cv=5)\n",
    "print(f'Lemmatized, CountVectorized RSquared = {lem_CV_R2[\"test_score\"].mean()}')\n"
   ]
  },
  {
   "cell_type": "code",
   "execution_count": 19,
   "metadata": {},
   "outputs": [
    {
     "name": "stdout",
     "output_type": "stream",
     "text": [
      "Lemmatized, TFIDVectorized Linear Regression Score = 0.8494204300381947\n",
      "Lemmatized, TFIDVectorized RSquared = -1.3952842087046053\n"
     ]
    }
   ],
   "source": [
    "# Lemmatized, TFIDVectorized LinearRegression results\n",
    "lr_l_rfid = LinearRegression()\n",
    "lr_l_rfid.fit(X_lem_RFID_train, y_train)\n",
    "print(f'Lemmatized, TFIDVectorized Linear Regression Score = {lr_l_rfid.score(X_lem_RFID_train, y_train)}')\n",
    "\n",
    "lem_RFID_R2 = cross_validate(lr_l_rfid, X_lem_RFID_train, y_train, return_train_score=True, cv=5)\n",
    "print(f'Lemmatized, TFIDVectorized RSquared = {lem_RFID_R2[\"test_score\"].mean()}')"
   ]
  },
  {
   "cell_type": "code",
   "execution_count": 20,
   "metadata": {},
   "outputs": [
    {
     "name": "stdout",
     "output_type": "stream",
     "text": [
      "Stemmatized, CountVectorized Linear Regression Score = 0.7441425421404138\n",
      "Stemmatized, CountVectorized RSquared = -6.489040137724392\n"
     ]
    }
   ],
   "source": [
    "# Stemmatized, CountVectorized LinearRegression results\n",
    "lr_st_cv = LinearRegression()\n",
    "lr_st_cv.fit(X_stem_CV_train, y_train)\n",
    "print(f'Stemmatized, CountVectorized Linear Regression Score = {lr_st_cv.score(X_stem_CV_train, y_train)}')\n",
    "\n",
    "stem_CV_R2 = cross_validate(lr_st_cv, X_stem_CV_train, y_train, return_train_score=True, cv=5)\n",
    "print(f'Stemmatized, CountVectorized RSquared = {lem_CV_R2[\"test_score\"].mean()}')"
   ]
  },
  {
   "cell_type": "code",
   "execution_count": 21,
   "metadata": {},
   "outputs": [
    {
     "name": "stdout",
     "output_type": "stream",
     "text": [
      "Stemmatized, TFIDVectorized Linear Regression Score = 0.7932024625977865\n",
      "Stemmatized, TFIDVectorized RSquared = -0.35223606460073287\n"
     ]
    }
   ],
   "source": [
    "# Stemmatized, TFIDVectorized LinearRegression results\n",
    "lr_st_rfid = LinearRegression()\n",
    "lr_st_rfid.fit(X_stem_RFID_train, y_train)\n",
    "print(f'Stemmatized, TFIDVectorized Linear Regression Score = {lr_st_rfid.score(X_stem_RFID_train, y_train)}')\n",
    "\n",
    "stem_RFID_R2 = cross_validate(lr_st_rfid, X_stem_RFID_train, y_train, return_train_score=True, cv=5)\n",
    "print(f'Stemmatized, TFIDVectorized RSquared = {stem_RFID_R2[\"test_score\"].mean()}')"
   ]
  },
  {
   "cell_type": "markdown",
   "metadata": {},
   "source": [
    "Lemmatized, CountVectorized Linear Regression Score = 0.8157758272439622  \n",
    "Lemmatized, CountVectorized RSquared = -6.489040137724392\n",
    "\n",
    "Lemmatized, TFIDVectorized Linear Regression Score = 0.8494204300381947  \n",
    "Lemmatized, TFIDVectorized RSquared = -1.3952842087046053\n",
    "\n",
    "Stemmatized, CountVectorized Linear Regression Score = 0.7441425421404138  \n",
    "Stemmatized, CountVectorized RSquared = -1.9675956343679446\n",
    "\n",
    "Stemmatized, TFIDVectorized Linear Regression Score = 0.7932024625977865  \n",
    "Stemmatized, TFIDVectorized RSquared = -0.35223606460073287\n",
    "\n",
    "Across the board we can see that the RSquared values are not suppoprting the detected regression lines.\n",
    "Before we go any further, let us address the imbalance in the target values and sample the data to ensure\n",
    "that this is not disrupting our calculations.\n",
    "Oversampling will be ruled out due to the amount of data we have, instead we will use RandomUnderSampling.\n",
    "\n",
    "The shape of the vectorized data could be changed by the sampling process, so we could consider starting over\n",
    "and sampling when the data is close to its original format, however, since the vectorisation is already completed\n",
    "and the computational time was not awful for the existing datasets I am happy to sample the lemmatized/\n",
    "stemmatized, CountVectorized/RFIDVectorized datasets"
   ]
  },
  {
   "cell_type": "code",
   "execution_count": 16,
   "metadata": {},
   "outputs": [],
   "source": [
    "# Under Sample data\n",
    "rUs = RandomUnderSampler()\n",
    "X_ru_lem_CV_tr, y_ru_train = rUs.fit_resample(X_lem_CV_train, y_train)\n",
    "X_ru_lem_RFID_tr, y_ru_train = rUs.fit_resample(X_lem_RFID_train, y_train)\n",
    "X_ru_stem_CV_tr, y_ru_train = rUs.fit_resample(X_stem_CV_train, y_train)\n",
    "X_ru_stem_RFID_tr, y_ru_train = rUs.fit_resample(X_stem_RFID_train, y_train)\n"
   ]
  },
  {
   "cell_type": "code",
   "execution_count": 22,
   "metadata": {},
   "outputs": [
    {
     "name": "stdout",
     "output_type": "stream",
     "text": [
      "UnderSampled Lemmatized, CountVectorized Linear Regression Score = -139.53741142311395\n",
      "UnderSampled Lemmatized, CountVectorized RSquared = -6.489040137724392\n"
     ]
    }
   ],
   "source": [
    "# UnderSampled Lemmatized, CountVectorized LinearRegression results\n",
    "lr_l_cv_ru = LinearRegression()\n",
    "lr_l_cv_ru.fit(X_ru_lem_CV_tr, y_ru_train)\n",
    "print(f'UnderSampled Lemmatized, CountVectorized Linear Regression Score = {lr_l_cv_ru.score(X_lem_CV_train, y_train)}')\n",
    "\n",
    "lem_CV_R2 = cross_validate(lr_l_cv_ru, X_lem_CV_train, y_train, return_train_score=True, cv=5)\n",
    "print(f'UnderSampled Lemmatized, CountVectorized RSquared = {lem_CV_R2[\"test_score\"].mean()}')"
   ]
  },
  {
   "cell_type": "code",
   "execution_count": 23,
   "metadata": {},
   "outputs": [
    {
     "name": "stdout",
     "output_type": "stream",
     "text": [
      "UnderSampled Lemmatized, TFIDVectorized Linear Regression Score = -35.32888700597642\n",
      "UnderSampled Lemmatized, TFIDVectorized RSquared = -1.3952842087046053\n"
     ]
    }
   ],
   "source": [
    "# UnderSampled Lemmatized, TFIDVectorized LinearRegression results\n",
    "lr_l_rfid_ru = LinearRegression()\n",
    "lr_l_rfid_ru.fit(X_ru_lem_RFID_tr, y_ru_train)\n",
    "print(f'UnderSampled Lemmatized, TFIDVectorized Linear Regression Score = {lr_l_rfid_ru.score(X_lem_RFID_train, y_train)}')\n",
    "\n",
    "lem_RFID_R2 = cross_validate(lr_l_rfid_ru, X_lem_RFID_train, y_train, return_train_score=True, cv=5)\n",
    "print(f'UnderSampled Lemmatized, TFIDVectorized RSquared = {lem_RFID_R2[\"test_score\"].mean()}')"
   ]
  },
  {
   "cell_type": "code",
   "execution_count": 24,
   "metadata": {},
   "outputs": [
    {
     "name": "stdout",
     "output_type": "stream",
     "text": [
      "UnderSampled Stemmatized, CountVectorized Linear Regression Score = -7.966979079538623\n",
      "UnderSampled Stemmatized, CountVectorized RSquared = -6.489040137724392\n"
     ]
    }
   ],
   "source": [
    "# UnderSampled Stemmatized, CountVectorized LinearRegression results\n",
    "lr_st_cv_ru = LinearRegression()\n",
    "lr_st_cv_ru.fit(X_ru_stem_CV_tr, y_ru_train)\n",
    "print(f'UnderSampled Stemmatized, CountVectorized Linear Regression Score = {lr_st_cv_ru.score(X_stem_CV_train, y_train)}')\n",
    "\n",
    "stem_CV_R2 = cross_validate(lr_st_cv_ru, X_stem_CV_train, y_train, return_train_score=True, cv=5)\n",
    "print(f'UnderSampled Stemmatized, CountVectorized RSquared = {lem_CV_R2[\"test_score\"].mean()}')"
   ]
  },
  {
   "cell_type": "code",
   "execution_count": 25,
   "metadata": {},
   "outputs": [
    {
     "name": "stdout",
     "output_type": "stream",
     "text": [
      "UnderSampled Stemmatized, TFIDVectorized Linear Regression Score = -1.9531003145546673\n",
      "UnderSampled Stemmatized, TFIDVectorized RSquared = -0.35223606460073287\n"
     ]
    }
   ],
   "source": [
    "# UnderSampled Stemmatized, TFIDVectorized LinearRegression results\n",
    "lr_st_rfid_ru = LinearRegression()\n",
    "lr_st_rfid_ru.fit(X_ru_stem_RFID_tr, y_ru_train)\n",
    "print(f'UnderSampled Stemmatized, TFIDVectorized Linear Regression Score = {lr_st_rfid_ru.score(X_stem_RFID_train, y_train)}')\n",
    "\n",
    "stem_RFID_R2 = cross_validate(lr_st_rfid_ru, X_stem_RFID_train, y_train, return_train_score=True, cv=5)\n",
    "print(f'UnderSampled Stemmatized, TFIDVectorized RSquared = {stem_RFID_R2[\"test_score\"].mean()}')"
   ]
  },
  {
   "cell_type": "markdown",
   "metadata": {},
   "source": [
    "UnderSampled Lemmatized, CountVectorized Linear Regression Score = -139.53741142311395  \n",
    "UnderSampled Lemmatized, CountVectorized RSquared = -6.489040137724392\n",
    "\n",
    "UnderSampled Lemmatized, TFIDVectorized Linear Regression Score = -35.32888700597642  \n",
    "UnderSampled Lemmatized, TFIDVectorized RSquared = -1.3952842087046053\n",
    "\n",
    "UnderSampled Stemmatized, CountVectorized Linear Regression Score = -7.966979079538623  \n",
    "UnderSampled Stemmatized, CountVectorized RSquared = -6.489040137724392\n",
    "\n",
    "UnderSampled Stemmatized, TFIDVectorized Linear Regression Score = -1.9531003145546673  \n",
    "UnderSampled Stemmatized, TFIDVectorized RSquared = -0.35223606460073287\n",
    "\n",
    "The random sampling has destroyed the false correlation we saw before and also confirmed the poor RSquared value\n",
    "\n",
    "As next steps it would make sense to try a gradientboosting regressor, and non linear models using a GridsearchCV.\n",
    "If we cannot find a regression model to suit our data as it is, then we should consider using regularisation\n",
    "to remove less important array locations from the calculations, such as the lasso regularisation and also consider\n",
    "making additions to our stop words function in preprocessing."
   ]
  }
 ],
 "metadata": {
  "kernelspec": {
   "display_name": "Python 3",
   "language": "python",
   "name": "python3"
  },
  "language_info": {
   "codemirror_mode": {
    "name": "ipython",
    "version": 3
   },
   "file_extension": ".py",
   "mimetype": "text/x-python",
   "name": "python",
   "nbconvert_exporter": "python",
   "pygments_lexer": "ipython3",
   "version": "3.11.4"
  }
 },
 "nbformat": 4,
 "nbformat_minor": 2
}
