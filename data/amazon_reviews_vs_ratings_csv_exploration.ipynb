{
 "cells": [
  {
   "cell_type": "code",
   "execution_count": 1,
   "metadata": {},
   "outputs": [],
   "source": [
    "import pandas as pd"
   ]
  },
  {
   "cell_type": "code",
   "execution_count": 4,
   "metadata": {},
   "outputs": [],
   "source": [
    "amazon_reviews = pd.read_csv('amazon_reviews_vs_ratings.csv', index_col = 0)\n",
    "\n"
   ]
  },
  {
   "cell_type": "code",
   "execution_count": 5,
   "metadata": {},
   "outputs": [
    {
     "data": {
      "text/html": [
       "<div>\n",
       "<style scoped>\n",
       "    .dataframe tbody tr th:only-of-type {\n",
       "        vertical-align: middle;\n",
       "    }\n",
       "\n",
       "    .dataframe tbody tr th {\n",
       "        vertical-align: top;\n",
       "    }\n",
       "\n",
       "    .dataframe thead th {\n",
       "        text-align: right;\n",
       "    }\n",
       "</style>\n",
       "<table border=\"1\" class=\"dataframe\">\n",
       "  <thead>\n",
       "    <tr style=\"text-align: right;\">\n",
       "      <th></th>\n",
       "      <th>star_rating</th>\n",
       "      <th>short_review</th>\n",
       "      <th>long_review</th>\n",
       "    </tr>\n",
       "  </thead>\n",
       "  <tbody>\n",
       "    <tr>\n",
       "      <th>0</th>\n",
       "      <td>5</td>\n",
       "      <td>!</td>\n",
       "      <td>It met and exceeded my expectations. It was de...</td>\n",
       "    </tr>\n",
       "    <tr>\n",
       "      <th>1</th>\n",
       "      <td>4</td>\n",
       "      <td>!</td>\n",
       "      <td>hello healthy and cancer-free life! i use a dr...</td>\n",
       "    </tr>\n",
       "    <tr>\n",
       "      <th>2</th>\n",
       "      <td>5</td>\n",
       "      <td>!</td>\n",
       "      <td>If you haven't heard of TeX this probably isn'...</td>\n",
       "    </tr>\n",
       "    <tr>\n",
       "      <th>3</th>\n",
       "      <td>4</td>\n",
       "      <td>!</td>\n",
       "      <td>this isnt youre typical hot cross. this album ...</td>\n",
       "    </tr>\n",
       "    <tr>\n",
       "      <th>4</th>\n",
       "      <td>3</td>\n",
       "      <td>!</td>\n",
       "      <td>Well, Black Robe is a very interesting and pow...</td>\n",
       "    </tr>\n",
       "  </tbody>\n",
       "</table>\n",
       "</div>"
      ],
      "text/plain": [
       "   star_rating short_review                                        long_review\n",
       "0            5            !  It met and exceeded my expectations. It was de...\n",
       "1            4            !  hello healthy and cancer-free life! i use a dr...\n",
       "2            5            !  If you haven't heard of TeX this probably isn'...\n",
       "3            4            !  this isnt youre typical hot cross. this album ...\n",
       "4            3            !  Well, Black Robe is a very interesting and pow..."
      ]
     },
     "metadata": {},
     "output_type": "display_data"
    },
    {
     "name": "stdout",
     "output_type": "stream",
     "text": [
      "Number of duplicates: 0\n",
      "<class 'pandas.core.frame.DataFrame'>\n",
      "Index: 3650000 entries, 0 to 3649999\n",
      "Data columns (total 3 columns):\n",
      " #   Column        Dtype \n",
      "---  ------        ----- \n",
      " 0   star_rating   int64 \n",
      " 1   short_review  object\n",
      " 2   long_review   object\n",
      "dtypes: int64(1), object(2)\n",
      "memory usage: 111.4+ MB\n"
     ]
    },
    {
     "data": {
      "text/plain": [
       "star_rating       0\n",
       "short_review    214\n",
       "long_review       0\n",
       "dtype: int64"
      ]
     },
     "execution_count": 5,
     "metadata": {},
     "output_type": "execute_result"
    }
   ],
   "source": [
    "display(amazon_reviews.head())\n",
    "\n",
    "print(f'Number of duplicates: {amazon_reviews.duplicated().sum()}')\n",
    "\n",
    "amazon_reviews.info()\n",
    "\n",
    "amazon_reviews.isna().sum()\n"
   ]
  }
 ],
 "metadata": {
  "kernelspec": {
   "display_name": "Python 3",
   "language": "python",
   "name": "python3"
  },
  "language_info": {
   "codemirror_mode": {
    "name": "ipython",
    "version": 3
   },
   "file_extension": ".py",
   "mimetype": "text/x-python",
   "name": "python",
   "nbconvert_exporter": "python",
   "pygments_lexer": "ipython3",
   "version": "3.11.4"
  }
 },
 "nbformat": 4,
 "nbformat_minor": 2
}
