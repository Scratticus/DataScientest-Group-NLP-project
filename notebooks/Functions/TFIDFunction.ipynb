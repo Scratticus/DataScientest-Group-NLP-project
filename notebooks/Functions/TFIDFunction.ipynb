{
 "cells": [
  {
   "cell_type": "code",
   "execution_count": 4,
   "id": "39ceb744",
   "metadata": {},
   "outputs": [],
   "source": [
    "def tfidf_process_text(X_train_processed, X_test_processed):\n",
    "    \"\"\"\n",
    "    Perform TF-IDF processing on the train and test text datasets ready for sentiment analysis.\n",
    "\n",
    "    The function takes preprocessed text data (X_train_processed and X_test_processed) as inputs,\n",
    "    inputs are vectorized with the TFID function from scikit-learn to convert text into \n",
    "    numerical feature vectors, and returns the vectorized train and test data.\n",
    "    \n",
    "    Parameters:\n",
    "    X_train_processed (pd.Series, column format, lemmatized/stemmatized): Preprocessed textual data for training.\n",
    "    X_test_processed (pd.Series, column format, lemmatized/stemmatized): Preprocessed textual data for testing.\n",
    "    \n",
    "    Returns:\n",
    "    train_X (scipy.sparse matrix): Vectorized training data.\n",
    "    test_X (scipy.sparse matrix): Vectorized testing data.\n",
    "\n",
    "    The sparse matrix type is handled by most classification/regression models without using the deprecated dense array types.\n",
    "    \"\"\"\n",
    "\n",
    "    from sklearn.feature_extraction.text import TfidfVectorizer\n",
    "\n",
    "    # Create a TfidfVectorizer instance\n",
    "    tfidf_vectorizer = TfidfVectorizer()\n",
    "\n",
    "    # Fit and transform the specified text data\n",
    "    train_X = tfidf_vectorizer.fit_transform(X_train_processed)\n",
    "    test_X = tfidf_vectorizer.transform(X_test_processed)\n",
    "\n",
    "    return train_X, test_X"
   ]
  },
  {
   "cell_type": "code",
   "execution_count": 5,
   "id": "47e54308",
   "metadata": {},
   "outputs": [
    {
     "name": "stdout",
     "output_type": "stream",
     "text": [
      "  (0, 8)\t0.408248290463863\n",
      "  (0, 6)\t0.408248290463863\n",
      "  (0, 5)\t0.408248290463863\n",
      "  (0, 2)\t0.408248290463863\n",
      "  (0, 4)\t0.408248290463863\n",
      "  (0, 7)\t0.408248290463863\n",
      "  (1, 1)\t0.5773502691896257\n",
      "  (1, 0)\t0.5773502691896257\n",
      "  (1, 3)\t0.5773502691896257\n",
      "\n",
      "  (0, 8)\t0.408248290463863\n",
      "  (0, 7)\t0.408248290463863\n",
      "  (0, 6)\t0.408248290463863\n",
      "  (0, 5)\t0.408248290463863\n",
      "  (0, 4)\t0.408248290463863\n",
      "  (0, 2)\t0.408248290463863\n"
     ]
    }
   ],
   "source": [
    "import pandas as pd\n",
    "import numpy as np\n",
    "\n",
    "train_test = pd.Series({\n",
    "    0: 'favorit book android dream electr sheep',\n",
    "    1: 'arriv 1 00pm 4 30pm'\n",
    "})\n",
    "\n",
    "test_test = pd.Series({\n",
    "    0: 'favorit book android dream electr sheep'\n",
    "})\n",
    "\n",
    "X_train, X_test = tfidf_process_text(train_test, test_test)\n",
    "\n",
    "print(X_train)\n",
    "print()\n",
    "print(X_test)"
   ]
  }
 ],
 "metadata": {
  "kernelspec": {
   "display_name": "Python 3 (ipykernel)",
   "language": "python",
   "name": "python3"
  },
  "language_info": {
   "codemirror_mode": {
    "name": "ipython",
    "version": 3
   },
   "file_extension": ".py",
   "mimetype": "text/x-python",
   "name": "python",
   "nbconvert_exporter": "python",
   "pygments_lexer": "ipython3",
   "version": "3.11.4"
  }
 },
 "nbformat": 4,
 "nbformat_minor": 5
}
