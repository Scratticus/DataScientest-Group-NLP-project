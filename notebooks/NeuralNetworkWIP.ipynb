{
 "cells": [
  {
   "cell_type": "code",
   "execution_count": 12,
   "metadata": {},
   "outputs": [
    {
     "ename": "ModuleNotFoundError",
     "evalue": "No module named 'AdditionalRegressionAnalysis'",
     "output_type": "error",
     "traceback": [
      "\u001b[1;31m---------------------------------------------------------------------------\u001b[0m",
      "\u001b[1;31mModuleNotFoundError\u001b[0m                       Traceback (most recent call last)",
      "\u001b[1;32mc:\\Documents\\GitHub\\amazon_review\\notebooks\\NeuralNetworkWIP.ipynb Cell 1\u001b[0m line \u001b[0;36m2\n\u001b[0;32m      <a href='vscode-notebook-cell:/c%3A/Documents/GitHub/amazon_review/notebooks/NeuralNetworkWIP.ipynb#W1sZmlsZQ%3D%3D?line=0'>1</a>\u001b[0m \u001b[39mimport\u001b[39;00m \u001b[39msys\u001b[39;00m\n\u001b[1;32m----> <a href='vscode-notebook-cell:/c%3A/Documents/GitHub/amazon_review/notebooks/NeuralNetworkWIP.ipynb#W1sZmlsZQ%3D%3D?line=1'>2</a>\u001b[0m \u001b[39mfrom\u001b[39;00m \u001b[39mAdditionalRegressionAnalysis\u001b[39;00m \u001b[39mimport\u001b[39;00m Tokenizer, Vectorizer\n\u001b[0;32m      <a href='vscode-notebook-cell:/c%3A/Documents/GitHub/amazon_review/notebooks/NeuralNetworkWIP.ipynb#W1sZmlsZQ%3D%3D?line=3'>4</a>\u001b[0m \u001b[39mfrom\u001b[39;00m \u001b[39mFunctions\u001b[39;00m\u001b[39m.\u001b[39;00m\u001b[39mTextMiningProcesses\u001b[39;00m \u001b[39mimport\u001b[39;00m column_lemmatizer, column_stemmatizer, count_vectorize_data, tfidf_vectorize_data\n\u001b[0;32m      <a href='vscode-notebook-cell:/c%3A/Documents/GitHub/amazon_review/notebooks/NeuralNetworkWIP.ipynb#W1sZmlsZQ%3D%3D?line=6'>7</a>\u001b[0m \u001b[39mfrom\u001b[39;00m \u001b[39mmatplotlib\u001b[39;00m \u001b[39mimport\u001b[39;00m pyplot \u001b[39mas\u001b[39;00m plt\n",
      "\u001b[1;31mModuleNotFoundError\u001b[0m: No module named 'AdditionalRegressionAnalysis'"
     ]
    }
   ],
   "source": [
    "from AdditionalRegressionAnalysis import Tokenizer, Vectorizer\n",
    "\n",
    "from Functions.TextMiningProcesses import column_lemmatizer, column_stemmatizer, count_vectorize_data, tfidf_vectorize_data\n",
    "\n",
    "\n",
    "from matplotlib import pyplot as plt\n",
    "\n",
    "from sklearn.metrics import make_scorer, accuracy_score, precision_score, recall_score, f1_score, r2_score, mean_squared_error, classification_report\n",
    "from sklearn.model_selection import cross_val_predict, cross_val_score, cross_validate, GridSearchCV, train_test_split\n",
    "\n",
    "from scipy.stats import linregress\n",
    "\n",
    "from tensorflow.keras.layers import Input, Dense, Dropout, Flatten, Conv2D, MaxPooling2D, Activation\n",
    "from tensorflow.keras.models import Model, Sequential\n",
    "from tensorflow.keras.datasets import mnist, cifar10 \n",
    "from tensorflow.keras.utils import to_categorical\n",
    "\n",
    "import numpy as np\n",
    "import pandas as pd\n",
    "import seaborn as sns\n",
    "%matplotlib inline"
   ]
  }
 ],
 "metadata": {
  "kernelspec": {
   "display_name": "Python 3",
   "language": "python",
   "name": "python3"
  },
  "language_info": {
   "codemirror_mode": {
    "name": "ipython",
    "version": 3
   },
   "file_extension": ".py",
   "mimetype": "text/x-python",
   "name": "python",
   "nbconvert_exporter": "python",
   "pygments_lexer": "ipython3",
   "version": "3.11.4"
  }
 },
 "nbformat": 4,
 "nbformat_minor": 2
}
