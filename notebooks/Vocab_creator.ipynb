{
 "cells": [
  {
   "cell_type": "code",
   "execution_count": 1,
   "metadata": {},
   "outputs": [
    {
     "ename": "ModuleNotFoundError",
     "evalue": "No module named 'TextMiningProcesses'",
     "output_type": "error",
     "traceback": [
      "\u001b[1;31m---------------------------------------------------------------------------\u001b[0m",
      "\u001b[1;31mModuleNotFoundError\u001b[0m                       Traceback (most recent call last)",
      "\u001b[1;32mc:\\Documents\\GitHub\\amazon_review\\notebooks\\Vocab_creator.ipynb Cell 1\u001b[0m line \u001b[0;36m1\n\u001b[0;32m     <a href='vscode-notebook-cell:/c%3A/Documents/GitHub/amazon_review/notebooks/Vocab_creator.ipynb#W1sZmlsZQ%3D%3D?line=9'>10</a>\u001b[0m \u001b[39mimport\u001b[39;00m \u001b[39msys\u001b[39;00m\n\u001b[0;32m     <a href='vscode-notebook-cell:/c%3A/Documents/GitHub/amazon_review/notebooks/Vocab_creator.ipynb#W1sZmlsZQ%3D%3D?line=11'>12</a>\u001b[0m sys\u001b[39m.\u001b[39mpath\u001b[39m.\u001b[39mappend(\u001b[39m'\u001b[39m\u001b[39m/Functions\u001b[39m\u001b[39m'\u001b[39m)\n\u001b[1;32m---> <a href='vscode-notebook-cell:/c%3A/Documents/GitHub/amazon_review/notebooks/Vocab_creator.ipynb#W1sZmlsZQ%3D%3D?line=12'>13</a>\u001b[0m \u001b[39mfrom\u001b[39;00m \u001b[39mTextMiningProcesses\u001b[39;00m \u001b[39mimport\u001b[39;00m column_lemmatizer\n",
      "\u001b[1;31mModuleNotFoundError\u001b[0m: No module named 'TextMiningProcesses'"
     ]
    }
   ],
   "source": [
    "import pandas as pd\n",
    "import numpy as np\n",
    "import pickle\n",
    "from tqdm import tqdm\n",
    "from sklearn.feature_extraction.text import CountVectorizer\n",
    "from sklearn.model_selection import train_test_split\n",
    "from nltk.stem import WordNetLemmatizer\n",
    "import gensim\n",
    "\n",
    "import sys\n",
    "\n",
    "sys.path.append('/Functions')\n",
    "from TextMiningProcesses import column_lemmatizer"
   ]
  },
  {
   "cell_type": "code",
   "execution_count": null,
   "metadata": {},
   "outputs": [],
   "source": [
    "filepaths = [\n",
    "    'data/vocab_df_part_0.csv',\n",
    "    'data/vocab_df_part_1.csv',\n",
    "    'data/vocab_df_part_2.csv',\n",
    "    'data/vocab_df_part_3.csv',\n",
    "    'data/vocab_df_part_4.csv',\n",
    "    'data/vocab_df_part_5.csv',\n",
    "    'data/vocab_df_part_6.csv',\n",
    "    'data/vocab_df_part_7.csv',\n",
    "    'data/vocab_df_part_8.csv',\n",
    "    'data/vocab_df_part_9.csv',\n",
    "    'data/vocab_df_part_10.csv',\n",
    "    'data/vocab_df_part_11.csv'\n",
    "]\n",
    "\n",
    "vocab_list = []\n",
    "\n",
    "for filepath in filepaths:\n",
    "    headers = pd.read_csv(filepath, nrows=0).columns.tolist()\n",
    "\n",
    "    vocab_list.extend(headers)\n",
    "\n",
    "vocab_list = list(set(vocab_list))\n",
    "\n",
    "print(len(vocab_list))\n"
   ]
  }
 ],
 "metadata": {
  "kernelspec": {
   "display_name": "Python 3",
   "language": "python",
   "name": "python3"
  },
  "language_info": {
   "codemirror_mode": {
    "name": "ipython",
    "version": 3
   },
   "file_extension": ".py",
   "mimetype": "text/x-python",
   "name": "python",
   "nbconvert_exporter": "python",
   "pygments_lexer": "ipython3",
   "version": "3.11.4"
  }
 },
 "nbformat": 4,
 "nbformat_minor": 2
}
