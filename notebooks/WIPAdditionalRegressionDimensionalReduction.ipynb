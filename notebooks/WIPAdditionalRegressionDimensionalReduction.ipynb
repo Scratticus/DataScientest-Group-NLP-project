{
 "cells": [
  {
   "cell_type": "code",
   "execution_count": null,
   "metadata": {},
   "outputs": [],
   "source": []
  },
  {
   "cell_type": "markdown",
   "metadata": {},
   "source": [
    "#### Dimensional Reduction Pipeline Functions: Currently WIP\n",
    "So far I have been unable to implement these dimensional reduction functions without error. I shall return to them after I have an initial regression computed by the other functions."
   ]
  },
  {
   "cell_type": "code",
   "execution_count": null,
   "metadata": {},
   "outputs": [],
   "source": [
    "class lasso_reduction(BaseEstimator, TransformerMixin):\n",
    "        def __init__(self, alpha=1, max_iter=1000):\n",
    "            self.alpha = alpha\n",
    "            self.max_iter = max_iter\n",
    "        \n",
    "        def fit(self, X, y):\n",
    "            self.lasso = Lasso(alpha=self.alpha, max_iter=self.max_iter)\n",
    "            self.lasso.fit(X, y)\n",
    "            return self\n",
    "\n",
    "        def transform(self, X):\n",
    "            sfm = SelectFromModel(self.lasso, prefit=True)\n",
    "            reduced_X = sfm.transform(X)\n",
    "            return reduced_X\n",
    "\n",
    "class RandomForestReduction(BaseEstimator, TransformerMixin):\n",
    "    def __init__(self, max_features=None, n_estimators=100, max_depth=None):\n",
    "        self.max_features = max_features\n",
    "        self.n_estimators = n_estimators\n",
    "        self.max_depth = max_depth\n",
    "\n",
    "    def fit(self, X, y):\n",
    "        self.rf = RandomForestRegressor(max_features=self.max_features, n_estimators=self.n_estimators, max_depth=self.max_depth)\n",
    "        self.rf.fit(X, y)\n",
    "        return self\n",
    "\n",
    "    def transform(self, X):\n",
    "        sfm = SelectFromModel(self.rf, prefit=True)\n",
    "        reduced_X = sfm.transform(X)\n",
    "        return reduced_X\n",
    "\n",
    "class XGBoostReduction(BaseEstimator, TransformerMixin):\n",
    "    def __init__(self, n_estimators=100, max_depth=None, learning_rate=0.1, threshold=5):\n",
    "        self.n_estimators= n_estimators\n",
    "        self.max_depth = max_depth\n",
    "        self.learning_rate = learning_rate\n",
    "        self.threshold = threshold\n",
    "\n",
    "    def fit(self, X, y):\n",
    "        self.boost_red = xgb.XGBRegressor(n_estimators=self.n_estimators, max_depth=self.max_depth, learning_rate=self.learning_rate)\n",
    "        self.boost_red.fit(X, y)\n",
    "        return self\n",
    "\n",
    "    def transform(self, X):\n",
    "        sfm = SelectFromModel(self.boost_red, threshold=self.threshold)\n",
    "        reduced_X = sfm.transform(X)\n",
    "        return reduced_X\n",
    "\n",
    "# pca = PCA()\n",
    "\n",
    "# dim_red_pipe = Pipeline([\n",
    "#     ('lasso', lasso_reduction()),\n",
    "#     ('RF', RandomForestReduction()),\n",
    "#     ('XGBoost', XGBoostReduction()),\n",
    "#     ('PCA', pca)\n",
    "# ])"
   ]
  }
 ],
 "metadata": {
  "language_info": {
   "name": "python"
  }
 },
 "nbformat": 4,
 "nbformat_minor": 2
}
