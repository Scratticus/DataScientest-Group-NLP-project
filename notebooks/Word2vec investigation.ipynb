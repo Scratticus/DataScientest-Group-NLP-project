{
 "cells": [
  {
   "cell_type": "code",
   "execution_count": 15,
   "metadata": {},
   "outputs": [],
   "source": [
    "import gensim\n",
    "from sklearn.feature_extraction.text import CountVectorizer\n",
    "from imblearn.under_sampling import RandomUnderSampler\n",
    "from nltk.tokenize.regexp import RegexpTokenizer\n",
    "from sklearn.model_selection import train_test_split\n",
    "from sklearn.preprocessing import StandardScaler, MinMaxScaler\n",
    "from sklearn.ensemble import HistGradientBoostingRegressor, HistGradientBoostingClassifier\n",
    "from sklearn.metrics import make_scorer, accuracy_score, precision_score, recall_score, f1_score, r2_score, mean_squared_error\n",
    "\n",
    "\n",
    "import numpy as np\n",
    "import pandas as pd\n",
    "from matplotlib import pyplot as plt\n",
    "%matplotlib inline\n"
   ]
  },
  {
   "cell_type": "code",
   "execution_count": 2,
   "metadata": {},
   "outputs": [
    {
     "data": {
      "text/plain": [
       "(300,)"
      ]
     },
     "execution_count": 2,
     "metadata": {},
     "output_type": "execute_result"
    }
   ],
   "source": [
    "GOOGLEMODEL = gensim.models.KeyedVectors.load_word2vec_format('../data/GoogleNews-vectors-negative300.bin', binary=True)\n",
    "\n",
    "GOOGLEMODEL['hello'].shape"
   ]
  },
  {
   "cell_type": "code",
   "execution_count": 22,
   "metadata": {},
   "outputs": [
    {
     "name": "stdout",
     "output_type": "stream",
     "text": [
      "overall\n",
      "5    278446\n",
      "4     51958\n",
      "1     35568\n",
      "3     20660\n",
      "2     13368\n",
      "Name: count, dtype: int64\n",
      "overall\n",
      "4    51958\n",
      "1    35568\n",
      "3    20660\n",
      "2    13368\n",
      "5    13368\n",
      "Name: count, dtype: int64\n"
     ]
    }
   ],
   "source": [
    "full_df = pd.read_json(\"../data/Appliances.json\", lines = True)\n",
    "\n",
    "# full_df.info()\n",
    "\n",
    "full_df = full_df.dropna(subset=['reviewText'])\n",
    "\n",
    "full_df.isna().sum()\n",
    "\n",
    "# full_df.info()\n",
    "\n",
    "full_df['overall'].unique()\n",
    "\n",
    "full_df = full_df[:400000]\n",
    "\n",
    "print(full_df['overall'].value_counts())\n",
    "\n",
    "features = full_df['reviewText']\n",
    "target = full_df['overall']\n",
    "\n",
    "features = features.to_numpy().reshape(-1, 1)\n",
    "\n",
    "sampler = RandomUnderSampler(sampling_strategy='majority', random_state=69)\n",
    "\n",
    "feat_samp, targ_samp = sampler.fit_resample(features, target)\n",
    "\n",
    "print(targ_samp.value_counts())"
   ]
  },
  {
   "cell_type": "code",
   "execution_count": 23,
   "metadata": {},
   "outputs": [
    {
     "ename": "MemoryError",
     "evalue": "Unable to allocate 38.1 GiB for an array with shape (37866, 134922) and data type int64",
     "output_type": "error",
     "traceback": [
      "\u001b[1;31m---------------------------------------------------------------------------\u001b[0m",
      "\u001b[1;31mMemoryError\u001b[0m                               Traceback (most recent call last)",
      "\u001b[1;32mc:\\Documents\\GitHub\\amazon_review\\notebooks\\Word2vec investigation.ipynb Cell 4\u001b[0m line \u001b[0;36m2\n\u001b[0;32m     <a href='vscode-notebook-cell:/c%3A/Documents/GitHub/amazon_review/notebooks/Word2vec%20investigation.ipynb#W3sZmlsZQ%3D%3D?line=21'>22</a>\u001b[0m \u001b[39m# Make a dataframe for machine learning\u001b[39;00m\n\u001b[0;32m     <a href='vscode-notebook-cell:/c%3A/Documents/GitHub/amazon_review/notebooks/Word2vec%20investigation.ipynb#W3sZmlsZQ%3D%3D?line=22'>23</a>\u001b[0m df \u001b[39m=\u001b[39m pd\u001b[39m.\u001b[39mDataFrame(X\u001b[39m.\u001b[39mtoarray(), columns\u001b[39m=\u001b[39mvectorizer\u001b[39m.\u001b[39mget_feature_names_out())\n\u001b[1;32m---> <a href='vscode-notebook-cell:/c%3A/Documents/GitHub/amazon_review/notebooks/Word2vec%20investigation.ipynb#W3sZmlsZQ%3D%3D?line=23'>24</a>\u001b[0m df \u001b[39m=\u001b[39m df\u001b[39m.\u001b[39;49mreset_index()\n\u001b[0;32m     <a href='vscode-notebook-cell:/c%3A/Documents/GitHub/amazon_review/notebooks/Word2vec%20investigation.ipynb#W3sZmlsZQ%3D%3D?line=25'>26</a>\u001b[0m df[\u001b[39m'\u001b[39m\u001b[39moverall_rating\u001b[39m\u001b[39m'\u001b[39m] \u001b[39m=\u001b[39m targ_samp\n\u001b[0;32m     <a href='vscode-notebook-cell:/c%3A/Documents/GitHub/amazon_review/notebooks/Word2vec%20investigation.ipynb#W3sZmlsZQ%3D%3D?line=27'>28</a>\u001b[0m \u001b[39mprint\u001b[39m(df\u001b[39m.\u001b[39mshape)\n",
      "File \u001b[1;32mc:\\Users\\Scratticus\\AppData\\Local\\Programs\\Python\\Python311\\Lib\\site-packages\\pandas\\core\\frame.py:6168\u001b[0m, in \u001b[0;36mDataFrame.reset_index\u001b[1;34m(self, level, drop, inplace, col_level, col_fill, allow_duplicates, names)\u001b[0m\n\u001b[0;32m   6166\u001b[0m     new_obj \u001b[39m=\u001b[39m \u001b[39mself\u001b[39m\n\u001b[0;32m   6167\u001b[0m \u001b[39melse\u001b[39;00m:\n\u001b[1;32m-> 6168\u001b[0m     new_obj \u001b[39m=\u001b[39m \u001b[39mself\u001b[39;49m\u001b[39m.\u001b[39;49mcopy(deep\u001b[39m=\u001b[39;49m\u001b[39mNone\u001b[39;49;00m)\n\u001b[0;32m   6169\u001b[0m \u001b[39mif\u001b[39;00m allow_duplicates \u001b[39mis\u001b[39;00m \u001b[39mnot\u001b[39;00m lib\u001b[39m.\u001b[39mno_default:\n\u001b[0;32m   6170\u001b[0m     allow_duplicates \u001b[39m=\u001b[39m validate_bool_kwarg(allow_duplicates, \u001b[39m\"\u001b[39m\u001b[39mallow_duplicates\u001b[39m\u001b[39m\"\u001b[39m)\n",
      "File \u001b[1;32mc:\\Users\\Scratticus\\AppData\\Local\\Programs\\Python\\Python311\\Lib\\site-packages\\pandas\\core\\generic.py:6685\u001b[0m, in \u001b[0;36mNDFrame.copy\u001b[1;34m(self, deep)\u001b[0m\n\u001b[0;32m   6553\u001b[0m \u001b[39m@final\u001b[39m\n\u001b[0;32m   6554\u001b[0m \u001b[39mdef\u001b[39;00m \u001b[39mcopy\u001b[39m(\u001b[39mself\u001b[39m, deep: bool_t \u001b[39m|\u001b[39m \u001b[39mNone\u001b[39;00m \u001b[39m=\u001b[39m \u001b[39mTrue\u001b[39;00m) \u001b[39m-\u001b[39m\u001b[39m>\u001b[39m Self:\n\u001b[0;32m   6555\u001b[0m \u001b[39m    \u001b[39m\u001b[39m\"\"\"\u001b[39;00m\n\u001b[0;32m   6556\u001b[0m \u001b[39m    Make a copy of this object's indices and data.\u001b[39;00m\n\u001b[0;32m   6557\u001b[0m \n\u001b[1;32m   (...)\u001b[0m\n\u001b[0;32m   6683\u001b[0m \u001b[39m    dtype: int64\u001b[39;00m\n\u001b[0;32m   6684\u001b[0m \u001b[39m    \"\"\"\u001b[39;00m\n\u001b[1;32m-> 6685\u001b[0m     data \u001b[39m=\u001b[39m \u001b[39mself\u001b[39;49m\u001b[39m.\u001b[39;49m_mgr\u001b[39m.\u001b[39;49mcopy(deep\u001b[39m=\u001b[39;49mdeep)\n\u001b[0;32m   6686\u001b[0m     \u001b[39mself\u001b[39m\u001b[39m.\u001b[39m_clear_item_cache()\n\u001b[0;32m   6687\u001b[0m     \u001b[39mreturn\u001b[39;00m \u001b[39mself\u001b[39m\u001b[39m.\u001b[39m_constructor_from_mgr(data, axes\u001b[39m=\u001b[39mdata\u001b[39m.\u001b[39maxes)\u001b[39m.\u001b[39m__finalize__(\n\u001b[0;32m   6688\u001b[0m         \u001b[39mself\u001b[39m, method\u001b[39m=\u001b[39m\u001b[39m\"\u001b[39m\u001b[39mcopy\u001b[39m\u001b[39m\"\u001b[39m\n\u001b[0;32m   6689\u001b[0m     )\n",
      "File \u001b[1;32mc:\\Users\\Scratticus\\AppData\\Local\\Programs\\Python\\Python311\\Lib\\site-packages\\pandas\\core\\internals\\managers.py:576\u001b[0m, in \u001b[0;36mBaseBlockManager.copy\u001b[1;34m(self, deep)\u001b[0m\n\u001b[0;32m    573\u001b[0m     \u001b[39melse\u001b[39;00m:\n\u001b[0;32m    574\u001b[0m         new_axes \u001b[39m=\u001b[39m \u001b[39mlist\u001b[39m(\u001b[39mself\u001b[39m\u001b[39m.\u001b[39maxes)\n\u001b[1;32m--> 576\u001b[0m res \u001b[39m=\u001b[39m \u001b[39mself\u001b[39;49m\u001b[39m.\u001b[39;49mapply(\u001b[39m\"\u001b[39;49m\u001b[39mcopy\u001b[39;49m\u001b[39m\"\u001b[39;49m, deep\u001b[39m=\u001b[39;49mdeep)\n\u001b[0;32m    577\u001b[0m res\u001b[39m.\u001b[39maxes \u001b[39m=\u001b[39m new_axes\n\u001b[0;32m    579\u001b[0m \u001b[39mif\u001b[39;00m \u001b[39mself\u001b[39m\u001b[39m.\u001b[39mndim \u001b[39m>\u001b[39m \u001b[39m1\u001b[39m:\n\u001b[0;32m    580\u001b[0m     \u001b[39m# Avoid needing to re-compute these\u001b[39;00m\n",
      "File \u001b[1;32mc:\\Users\\Scratticus\\AppData\\Local\\Programs\\Python\\Python311\\Lib\\site-packages\\pandas\\core\\internals\\managers.py:354\u001b[0m, in \u001b[0;36mBaseBlockManager.apply\u001b[1;34m(self, f, align_keys, **kwargs)\u001b[0m\n\u001b[0;32m    352\u001b[0m         applied \u001b[39m=\u001b[39m b\u001b[39m.\u001b[39mapply(f, \u001b[39m*\u001b[39m\u001b[39m*\u001b[39mkwargs)\n\u001b[0;32m    353\u001b[0m     \u001b[39melse\u001b[39;00m:\n\u001b[1;32m--> 354\u001b[0m         applied \u001b[39m=\u001b[39m \u001b[39mgetattr\u001b[39;49m(b, f)(\u001b[39m*\u001b[39;49m\u001b[39m*\u001b[39;49mkwargs)\n\u001b[0;32m    355\u001b[0m     result_blocks \u001b[39m=\u001b[39m extend_blocks(applied, result_blocks)\n\u001b[0;32m    357\u001b[0m out \u001b[39m=\u001b[39m \u001b[39mtype\u001b[39m(\u001b[39mself\u001b[39m)\u001b[39m.\u001b[39mfrom_blocks(result_blocks, \u001b[39mself\u001b[39m\u001b[39m.\u001b[39maxes)\n",
      "File \u001b[1;32mc:\\Users\\Scratticus\\AppData\\Local\\Programs\\Python\\Python311\\Lib\\site-packages\\pandas\\core\\internals\\blocks.py:645\u001b[0m, in \u001b[0;36mBlock.copy\u001b[1;34m(self, deep)\u001b[0m\n\u001b[0;32m    643\u001b[0m refs: BlockValuesRefs \u001b[39m|\u001b[39m \u001b[39mNone\u001b[39;00m\n\u001b[0;32m    644\u001b[0m \u001b[39mif\u001b[39;00m deep:\n\u001b[1;32m--> 645\u001b[0m     values \u001b[39m=\u001b[39m values\u001b[39m.\u001b[39mcopy()\n\u001b[0;32m    646\u001b[0m     refs \u001b[39m=\u001b[39m \u001b[39mNone\u001b[39;00m\n\u001b[0;32m    647\u001b[0m \u001b[39melse\u001b[39;00m:\n",
      "\u001b[1;31mMemoryError\u001b[0m: Unable to allocate 38.1 GiB for an array with shape (37866, 134922) and data type int64"
     ]
    }
   ],
   "source": [
    "\n",
    "tokenizer = RegexpTokenizer(r'[a-zA-Z]+')\n",
    "\n",
    "corpus = feat_samp\n",
    "\n",
    "review_list = []\n",
    "\n",
    "for review in corpus:\n",
    "    if isinstance(review[0], str):\n",
    "        tokens = tokenizer.tokenize(review[0].lower())\n",
    "        review_string = ''\n",
    "        for word in tokens:\n",
    "            review_string += word + ' '\n",
    "\n",
    "        review_list.append(review_string) \n",
    "\n",
    "review_series = pd.Series(review_list)\n",
    "\n",
    "vectorizer = CountVectorizer(stop_words='english')\n",
    "\n",
    "X = vectorizer.fit_transform(review_series)\n",
    "\n",
    "# Make a dataframe for machine learning\n",
    "df = pd.DataFrame(X.toarray(), columns=vectorizer.get_feature_names_out())\n",
    "df = df.reset_index()\n",
    "\n",
    "df['overall_rating'] = targ_samp\n",
    "\n",
    "print(df.shape)\n",
    "df.head()\n"
   ]
  },
  {
   "cell_type": "code",
   "execution_count": 4,
   "metadata": {},
   "outputs": [
    {
     "data": {
      "text/plain": [
       "(85198, 41225)"
      ]
     },
     "execution_count": 4,
     "metadata": {},
     "output_type": "execute_result"
    }
   ],
   "source": [
    "vocab = df.columns[:-1]\n",
    "\n",
    "vocab[:10]\n",
    "\n",
    "len(vocab)\n",
    "\n",
    "df.shape"
   ]
  },
  {
   "cell_type": "code",
   "execution_count": 5,
   "metadata": {},
   "outputs": [
    {
     "name": "stderr",
     "output_type": "stream",
     "text": [
      " 14%|█▍        | 12036/85198 [01:55<11:41, 104.31it/s]\n"
     ]
    },
    {
     "name": "stdout",
     "output_type": "stream",
     "text": [
      "Unexpected exception formatting exception. Falling back to standard exception\n"
     ]
    },
    {
     "name": "stderr",
     "output_type": "stream",
     "text": [
      "Traceback (most recent call last):\n",
      "  File \"C:\\Users\\Scratticus\\AppData\\Roaming\\Python\\Python311\\site-packages\\IPython\\core\\interactiveshell.py\", line 3526, in run_code\n",
      "    exec(code_obj, self.user_global_ns, self.user_ns)\n",
      "  File \"C:\\Users\\Scratticus\\AppData\\Local\\Temp\\ipykernel_39176\\691676107.py\", line -1, in <module>\n",
      "KeyboardInterrupt\n",
      "\n",
      "During handling of the above exception, another exception occurred:\n",
      "\n",
      "Traceback (most recent call last):\n",
      "  File \"C:\\Users\\Scratticus\\AppData\\Roaming\\Python\\Python311\\site-packages\\IPython\\core\\interactiveshell.py\", line 2120, in showtraceback\n",
      "    stb = self.InteractiveTB.structured_traceback(\n",
      "          ^^^^^^^^^^^^^^^^^^^^^^^^^^^^^^^^^^^^^^^^\n",
      "  File \"C:\\Users\\Scratticus\\AppData\\Roaming\\Python\\Python311\\site-packages\\IPython\\core\\ultratb.py\", line 1435, in structured_traceback\n",
      "    return FormattedTB.structured_traceback(\n",
      "           ^^^^^^^^^^^^^^^^^^^^^^^^^^^^^^^^^\n",
      "  File \"C:\\Users\\Scratticus\\AppData\\Roaming\\Python\\Python311\\site-packages\\IPython\\core\\ultratb.py\", line 1326, in structured_traceback\n",
      "    return VerboseTB.structured_traceback(\n",
      "           ^^^^^^^^^^^^^^^^^^^^^^^^^^^^^^^\n",
      "  File \"C:\\Users\\Scratticus\\AppData\\Roaming\\Python\\Python311\\site-packages\\IPython\\core\\ultratb.py\", line 1173, in structured_traceback\n",
      "    formatted_exception = self.format_exception_as_a_whole(etype, evalue, etb, number_of_lines_of_context,\n",
      "                          ^^^^^^^^^^^^^^^^^^^^^^^^^^^^^^^^^^^^^^^^^^^^^^^^^^^^^^^^^^^^^^^^^^^^^^^^^^^^^^^^\n",
      "  File \"C:\\Users\\Scratticus\\AppData\\Roaming\\Python\\Python311\\site-packages\\IPython\\core\\ultratb.py\", line 1088, in format_exception_as_a_whole\n",
      "    frames.append(self.format_record(record))\n",
      "                  ^^^^^^^^^^^^^^^^^^^^^^^^^^\n",
      "  File \"C:\\Users\\Scratticus\\AppData\\Roaming\\Python\\Python311\\site-packages\\IPython\\core\\ultratb.py\", line 970, in format_record\n",
      "    frame_info.lines, Colors, self.has_colors, lvals\n",
      "    ^^^^^^^^^^^^^^^^\n",
      "  File \"C:\\Users\\Scratticus\\AppData\\Roaming\\Python\\Python311\\site-packages\\IPython\\core\\ultratb.py\", line 792, in lines\n",
      "    return self._sd.lines\n",
      "           ^^^^^^^^^^^^^^\n",
      "  File \"C:\\Users\\Scratticus\\AppData\\Roaming\\Python\\Python311\\site-packages\\stack_data\\utils.py\", line 145, in cached_property_wrapper\n",
      "    value = obj.__dict__[self.func.__name__] = self.func(obj)\n",
      "                                               ^^^^^^^^^^^^^^\n",
      "  File \"C:\\Users\\Scratticus\\AppData\\Roaming\\Python\\Python311\\site-packages\\stack_data\\core.py\", line 734, in lines\n",
      "    pieces = self.included_pieces\n",
      "             ^^^^^^^^^^^^^^^^^^^^\n",
      "  File \"C:\\Users\\Scratticus\\AppData\\Roaming\\Python\\Python311\\site-packages\\stack_data\\utils.py\", line 145, in cached_property_wrapper\n",
      "    value = obj.__dict__[self.func.__name__] = self.func(obj)\n",
      "                                               ^^^^^^^^^^^^^^\n",
      "  File \"C:\\Users\\Scratticus\\AppData\\Roaming\\Python\\Python311\\site-packages\\stack_data\\core.py\", line 681, in included_pieces\n",
      "    pos = scope_pieces.index(self.executing_piece)\n",
      "                             ^^^^^^^^^^^^^^^^^^^^\n",
      "  File \"C:\\Users\\Scratticus\\AppData\\Roaming\\Python\\Python311\\site-packages\\stack_data\\utils.py\", line 145, in cached_property_wrapper\n",
      "    value = obj.__dict__[self.func.__name__] = self.func(obj)\n",
      "                                               ^^^^^^^^^^^^^^\n",
      "  File \"C:\\Users\\Scratticus\\AppData\\Roaming\\Python\\Python311\\site-packages\\stack_data\\core.py\", line 660, in executing_piece\n",
      "    return only(\n",
      "           ^^^^^\n",
      "  File \"C:\\Users\\Scratticus\\AppData\\Roaming\\Python\\Python311\\site-packages\\executing\\executing.py\", line 116, in only\n",
      "    raise NotOneValueFound('Expected one value, found 0')\n",
      "executing.executing.NotOneValueFound: Expected one value, found 0\n"
     ]
    }
   ],
   "source": [
    "from tqdm import tqdm\n",
    "\n",
    "W2V_list = []\n",
    "\n",
    "features = df.drop(columns='overall_rating')\n",
    "\n",
    "with tqdm(total=df.shape[0]) as pbar:\n",
    "    for i in range(df.shape[0]):\n",
    "        pbar.update(1)\n",
    "        sentence = np.zeros(300)\n",
    "\n",
    "        indices = np.where(np.array(features.iloc[i, :] >= 1))[0]\n",
    "\n",
    "        for index in indices:\n",
    "            word = vocab[index]\n",
    "            if word in GOOGLEMODEL.key_to_index.keys():\n",
    "                sentence = sentence + GOOGLEMODEL[word]\n",
    "\n",
    "        W2V_list.append(sentence)\n",
    "\n",
    "    W2V_df = pd.DataFrame(W2V_list)\n",
    "\n",
    "print(W2V_df.shape)\n",
    "W2V_df.head()\n"
   ]
  },
  {
   "cell_type": "code",
   "execution_count": null,
   "metadata": {},
   "outputs": [
    {
     "name": "stdout",
     "output_type": "stream",
     "text": [
      "(63774, 300)\n",
      "(63774,)\n",
      "(21259, 300)\n",
      "(21259,)\n"
     ]
    }
   ],
   "source": [
    "scaler = MinMaxScaler()\n",
    "feature_W2V = scaler.fit_transform(W2V_df)\n",
    "\n",
    "X_train, X_test, y_train, y_test = train_test_split(feature_W2V, df['overall_rating'], test_size=0.25, random_state=69)\n",
    "\n",
    "print(X_train.shape)\n",
    "print(y_train.shape)\n",
    "print(X_test.shape)\n",
    "print(y_test.shape)"
   ]
  },
  {
   "cell_type": "code",
   "execution_count": null,
   "metadata": {},
   "outputs": [
    {
     "data": {
      "image/png": "[encoded data removed]",
      "text/plain": [
       "<Figure size 640x480 with 1 Axes>"
      ]
     },
     "metadata": {},
     "output_type": "display_data"
    }
   ],
   "source": [
    "hgbr = HistGradientBoostingRegressor(learning_rate=0.5, max_depth=1000)\n",
    "hgbr.fit(X_train, y_train)\n",
    "y_pred = hgbr.predict(X_test)\n",
    "\n",
    "y_pred_series = pd.Series(y_pred)\n",
    "\n",
    "plt.scatter(x=y_pred, y=y_test)\n",
    "plt.xlabel('Predicted')\n",
    "plt.ylabel('Real');"
   ]
  },
  {
   "cell_type": "code",
   "execution_count": null,
   "metadata": {},
   "outputs": [
    {
     "name": "stdout",
     "output_type": "stream",
     "text": [
      "Final HGBR results:\n",
      "Accuracy: 0.47048308951502893\n",
      "Precision: 0.6539352051743964\n",
      "Recall: 0.47048308951502893\n",
      "F1 Score 0.5028820413138744\n",
      "R Squared: 0.4551035616711008\n",
      "MSE: 1.3632814337457078\n"
     ]
    }
   ],
   "source": [
    "y_pred_cut = y_cut = pd.cut(x=y_pred, bins=[y_pred.min(),1.5,2.5,3.5,4.5,y_pred.max()], labels=[1,2,3,4,5], include_lowest=True)\n",
    "\n",
    "orig_acc = accuracy_score(y_test, y_pred_cut)\n",
    "orig_pre = precision_score(y_test, y_pred_cut, average='weighted')\n",
    "orig_rec = recall_score(y_test, y_pred_cut, average='weighted')\n",
    "orig_f1 = f1_score(y_test, y_pred_cut, average='weighted')\n",
    "orig_r2 = r2_score(y_test, y_pred_cut)\n",
    "orig_mse = mean_squared_error(y_test, y_pred_cut)\n",
    "\n",
    "print(f'Final HGBR results:')\n",
    "print(f'Accuracy: {orig_acc}\\nPrecision: {orig_pre}\\nRecall: {orig_rec}\\nF1 Score {orig_f1}\\nR Squared: {orig_r2}\\nMSE: {orig_mse}')\n"
   ]
  }
 ],
 "metadata": {
  "kernelspec": {
   "display_name": "Python 3",
   "language": "python",
   "name": "python3"
  },
  "language_info": {
   "codemirror_mode": {
    "name": "ipython",
    "version": 3
   },
   "file_extension": ".py",
   "mimetype": "text/x-python",
   "name": "python",
   "nbconvert_exporter": "python",
   "pygments_lexer": "ipython3",
   "version": "3.11.4"
  }
 },
 "nbformat": 4,
 "nbformat_minor": 2
}
